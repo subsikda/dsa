{
 "cells": [
  {
   "cell_type": "markdown",
   "id": "a2405f24",
   "metadata": {},
   "source": [
    "# Backtracking\n"
   ]
  },
  {
   "cell_type": "code",
   "execution_count": null,
   "id": "182155ae",
   "metadata": {},
   "outputs": [],
   "source": [
    "### Move all 'X' to end of string\n",
    "\n",
    "# TODO: Implement the solution for: Move all 'X' to end of string\n",
    "\n",
    "def solution(*args):\n",
    "    pass  # Replace with actual implementation\n",
    "\n",
    "try:\n",
    "    assert solution('abxcxdx') == 'abcdxxx'\n",
    "    print(\"Test Case 1 Passed\")\n",
    "except AssertionError:\n",
    "    print(\"Test Case 1 Failed\")\n",
    "try:\n",
    "    assert solution('xxxx') == 'xxxx'\n",
    "    print(\"Test Case 2 Passed\")\n",
    "except AssertionError:\n",
    "    print(\"Test Case 2 Failed\")\n",
    "try:\n",
    "    assert solution('abc') == 'abc'\n",
    "    print(\"Test Case 3 Passed\")\n",
    "except AssertionError:\n",
    "    print(\"Test Case 3 Failed\")\n"
   ]
  },
  {
   "cell_type": "code",
   "execution_count": null,
   "id": "9f3f42a9",
   "metadata": {},
   "outputs": [],
   "source": [
    "### Remove consecutive duplicates\n",
    "\n",
    "# TODO: Implement the solution for: Remove consecutive duplicates\n",
    "\n",
    "def solution(*args):\n",
    "    pass  # Replace with actual implementation\n",
    "\n",
    "try:\n",
    "    assert solution('aaabbcdd') == 'abcd'\n",
    "    print(\"Test Case 1 Passed\")\n",
    "except AssertionError:\n",
    "    print(\"Test Case 1 Failed\")\n",
    "try:\n",
    "    assert solution('') == ''\n",
    "    print(\"Test Case 2 Passed\")\n",
    "except AssertionError:\n",
    "    print(\"Test Case 2 Failed\")\n",
    "try:\n",
    "    assert solution('a') == 'a'\n",
    "    print(\"Test Case 3 Passed\")\n",
    "except AssertionError:\n",
    "    print(\"Test Case 3 Failed\")\n"
   ]
  },
  {
   "cell_type": "code",
   "execution_count": null,
   "id": "05b3b0b2",
   "metadata": {},
   "outputs": [],
   "source": [
    "### Insert item at the bottom of stack\n",
    "\n",
    "# TODO: Implement the solution for: Insert item at the bottom of stack\n",
    "\n",
    "def solution(*args):\n",
    "    pass  # Replace with actual implementation\n",
    "\n",
    "try:\n",
    "    assert solution([1, 2, 3], 0) == [0, 1, 2, 3]\n",
    "    print(\"Test Case 1 Passed\")\n",
    "except AssertionError:\n",
    "    print(\"Test Case 1 Failed\")\n"
   ]
  },
  {
   "cell_type": "code",
   "execution_count": null,
   "id": "b9093cef",
   "metadata": {},
   "outputs": [],
   "source": [
    "### Reverse stack\n",
    "\n",
    "# TODO: Implement the solution for: Reverse stack\n",
    "\n",
    "def solution(*args):\n",
    "    pass  # Replace with actual implementation\n",
    "\n",
    "try:\n",
    "    assert solution([1, 2, 3]) == [3, 2, 1]\n",
    "    print(\"Test Case 1 Passed\")\n",
    "except AssertionError:\n",
    "    print(\"Test Case 1 Failed\")\n"
   ]
  },
  {
   "cell_type": "code",
   "execution_count": null,
   "id": "4cb2daa7",
   "metadata": {},
   "outputs": [],
   "source": [
    "### Sort a stack\n",
    "\n",
    "# TODO: Implement the solution for: Sort a stack\n",
    "\n",
    "def solution(*args):\n",
    "    pass  # Replace with actual implementation\n",
    "\n",
    "try:\n",
    "    assert solution([3, 1, 2]) == [1, 2, 3]\n",
    "    print(\"Test Case 1 Passed\")\n",
    "except AssertionError:\n",
    "    print(\"Test Case 1 Failed\")\n",
    "try:\n",
    "    assert solution([5, 1, 0]) == [0, 1, 5]\n",
    "    print(\"Test Case 2 Passed\")\n",
    "except AssertionError:\n",
    "    print(\"Test Case 2 Failed\")\n"
   ]
  },
  {
   "cell_type": "code",
   "execution_count": null,
   "id": "4b4ae68a",
   "metadata": {},
   "outputs": [],
   "source": [
    "### Print all distinct subsets of a given set (Power Set)\n",
    "\n",
    "# TODO: Implement the solution for: Print all distinct subsets of a given set (Power Set)\n",
    "\n",
    "def solution(*args):\n",
    "    pass  # Replace with actual implementation\n",
    "\n",
    "try:\n",
    "    assert solution([1, 2]) == [[], [1], [2], [1, 2]]\n",
    "    print(\"Test Case 1 Passed\")\n",
    "except AssertionError:\n",
    "    print(\"Test Case 1 Failed\")\n"
   ]
  },
  {
   "cell_type": "code",
   "execution_count": null,
   "id": "77758906",
   "metadata": {},
   "outputs": [],
   "source": [
    "### Power Set in Lexicographic order\n",
    "\n",
    "# TODO: Implement the solution for: Power Set in Lexicographic order\n",
    "\n",
    "def solution(*args):\n",
    "    pass  # Replace with actual implementation\n",
    "\n",
    "try:\n",
    "    assert solution('abc') == ['', 'a', 'ab', 'abc', 'ac', 'b', 'bc', 'c']\n",
    "    print(\"Test Case 1 Passed\")\n",
    "except AssertionError:\n",
    "    print(\"Test Case 1 Failed\")\n"
   ]
  },
  {
   "cell_type": "code",
   "execution_count": null,
   "id": "969cca0c",
   "metadata": {},
   "outputs": [],
   "source": [
    "### Generate all subsequences\n",
    "\n",
    "# TODO: Implement the solution for: Generate all subsequences\n",
    "\n",
    "def solution(*args):\n",
    "    pass  # Replace with actual implementation\n",
    "\n",
    "try:\n",
    "    assert solution('abc') == ['a', 'ab', 'abc', 'ac', 'b', 'bc', 'c']\n",
    "    print(\"Test Case 1 Passed\")\n",
    "except AssertionError:\n",
    "    print(\"Test Case 1 Failed\")\n"
   ]
  },
  {
   "cell_type": "code",
   "execution_count": null,
   "id": "25f1291b",
   "metadata": {},
   "outputs": [],
   "source": [
    "### Recursive function to do substring search\n",
    "\n",
    "# TODO: Implement the solution for: Recursive function to do substring search\n",
    "\n",
    "def solution(*args):\n",
    "    pass  # Replace with actual implementation\n",
    "\n",
    "try:\n",
    "    assert solution('hello', 'll') == True\n",
    "    print(\"Test Case 1 Passed\")\n",
    "except AssertionError:\n",
    "    print(\"Test Case 1 Failed\")\n",
    "try:\n",
    "    assert solution('abc', 'd') == False\n",
    "    print(\"Test Case 2 Passed\")\n",
    "except AssertionError:\n",
    "    print(\"Test Case 2 Failed\")\n"
   ]
  },
  {
   "cell_type": "code",
   "execution_count": null,
   "id": "0c208939",
   "metadata": {},
   "outputs": [],
   "source": [
    "### Generate balanced parentheses\n",
    "\n",
    "# TODO: Implement the solution for: Generate balanced parentheses\n",
    "\n",
    "def solution(*args):\n",
    "    pass  # Replace with actual implementation\n",
    "\n",
    "try:\n",
    "    assert solution(2) == ['(())', '()()']\n",
    "    print(\"Test Case 1 Passed\")\n",
    "except AssertionError:\n",
    "    print(\"Test Case 1 Failed\")\n"
   ]
  },
  {
   "cell_type": "code",
   "execution_count": null,
   "id": "4207af02",
   "metadata": {},
   "outputs": [],
   "source": [
    "### Count number of binary strings without consecutive 1’s\n",
    "\n",
    "# TODO: Implement the solution for: Count number of binary strings without consecutive 1’s\n",
    "\n",
    "def solution(*args):\n",
    "    pass  # Replace with actual implementation\n",
    "\n",
    "try:\n",
    "    assert solution(3) == 5\n",
    "    print(\"Test Case 1 Passed\")\n",
    "except AssertionError:\n",
    "    print(\"Test Case 1 Failed\")\n"
   ]
  },
  {
   "cell_type": "code",
   "execution_count": null,
   "id": "d5710625",
   "metadata": {},
   "outputs": [],
   "source": [
    "### Find all permutations of a string\n",
    "\n",
    "# TODO: Implement the solution for: Find all permutations of a string\n",
    "\n",
    "def solution(*args):\n",
    "    pass  # Replace with actual implementation\n",
    "\n",
    "try:\n",
    "    assert solution('abc') == ['abc', 'acb', 'bac', 'bca', 'cab', 'cba']\n",
    "    print(\"Test Case 1 Passed\")\n",
    "except AssertionError:\n",
    "    print(\"Test Case 1 Failed\")\n"
   ]
  },
  {
   "cell_type": "code",
   "execution_count": null,
   "id": "512dbbda",
   "metadata": {},
   "outputs": [],
   "source": [
    "### k'th permutation sequence\n",
    "\n",
    "# TODO: Implement the solution for: k'th permutation sequence\n",
    "\n",
    "def solution(*args):\n",
    "    pass  # Replace with actual implementation\n",
    "\n",
    "try:\n",
    "    assert solution(3, 4) == '231'\n",
    "    print(\"Test Case 1 Passed\")\n",
    "except AssertionError:\n",
    "    print(\"Test Case 1 Failed\")\n"
   ]
  },
  {
   "cell_type": "code",
   "execution_count": null,
   "id": "adff9ab8",
   "metadata": {},
   "outputs": [],
   "source": [
    "### Remove invalid parenthesis\n",
    "\n",
    "# TODO: Implement the solution for: Remove invalid parenthesis\n",
    "\n",
    "def solution(*args):\n",
    "    pass  # Replace with actual implementation\n",
    "\n",
    "try:\n",
    "    assert solution('(a)())()') == ['(a())()', '(a)()()']\n",
    "    print(\"Test Case 1 Passed\")\n",
    "except AssertionError:\n",
    "    print(\"Test Case 1 Failed\")\n"
   ]
  },
  {
   "cell_type": "code",
   "execution_count": null,
   "id": "079db6f2",
   "metadata": {},
   "outputs": [],
   "source": [
    "### Generate all numbers up to N in Lexicographical Order\n",
    "\n",
    "# TODO: Implement the solution for: Generate all numbers up to N in Lexicographical Order\n",
    "\n",
    "def solution(*args):\n",
    "    pass  # Replace with actual implementation\n",
    "\n",
    "try:\n",
    "    assert solution(13) == [1, 10, 11, 12, 13, 2, 3, 4, 5, 6, 7, 8, 9]\n",
    "    print(\"Test Case 1 Passed\")\n",
    "except AssertionError:\n",
    "    print(\"Test Case 1 Failed\")\n"
   ]
  },
  {
   "cell_type": "code",
   "execution_count": null,
   "id": "2d60d181",
   "metadata": {},
   "outputs": [],
   "source": [
    "### Maximum possible number by doing at most k swaps\n",
    "\n",
    "# TODO: Implement the solution for: Maximum possible number by doing at most k swaps\n",
    "\n",
    "def solution(*args):\n",
    "    pass  # Replace with actual implementation\n",
    "\n",
    "try:\n",
    "    assert solution('1234', 2) == '4321'\n",
    "    print(\"Test Case 1 Passed\")\n",
    "except AssertionError:\n",
    "    print(\"Test Case 1 Failed\")\n"
   ]
  },
  {
   "cell_type": "code",
   "execution_count": null,
   "id": "88affebd",
   "metadata": {},
   "outputs": [],
   "source": [
    "### Merge sort linked list\n",
    "\n",
    "# TODO: Implement the solution for: Merge sort linked list\n",
    "\n",
    "def solution(*args):\n",
    "    pass  # Replace with actual implementation\n",
    "\n",
    "try:\n",
    "    assert solution([4, 2, 1, 3]) == [1, 2, 3, 4]\n",
    "    print(\"Test Case 1 Passed\")\n",
    "except AssertionError:\n",
    "    print(\"Test Case 1 Failed\")\n"
   ]
  },
  {
   "cell_type": "code",
   "execution_count": null,
   "id": "546acdf6",
   "metadata": {},
   "outputs": [],
   "source": [
    "### Rat in a maze\n",
    "\n",
    "# TODO: Implement the solution for: Rat in a maze\n",
    "\n",
    "def solution(*args):\n",
    "    pass  # Replace with actual implementation\n",
    "\n",
    "try:\n",
    "    assert solution([[1, 0], [1, 1]]) == ['DR']\n",
    "    print(\"Test Case 1 Passed\")\n",
    "except AssertionError:\n",
    "    print(\"Test Case 1 Failed\")\n"
   ]
  },
  {
   "cell_type": "code",
   "execution_count": null,
   "id": "1fae9d07",
   "metadata": {},
   "outputs": [],
   "source": [
    "### Word search\n",
    "\n",
    "# TODO: Implement the solution for: Word search\n",
    "\n",
    "def solution(*args):\n",
    "    pass  # Replace with actual implementation\n",
    "\n",
    "try:\n",
    "    assert solution([['A', 'B', 'C', 'E'], ['S', 'F', 'C', 'S'], ['A', 'D', 'E', 'E']], 'ABCCED') == True\n",
    "    print(\"Test Case 1 Passed\")\n",
    "except AssertionError:\n",
    "    print(\"Test Case 1 Failed\")\n"
   ]
  },
  {
   "cell_type": "code",
   "execution_count": null,
   "id": "527fe9c4",
   "metadata": {},
   "outputs": [],
   "source": [
    "### Path with maximum gold\n",
    "\n",
    "# TODO: Implement the solution for: Path with maximum gold\n",
    "\n",
    "def solution(*args):\n",
    "    pass  # Replace with actual implementation\n",
    "\n",
    "try:\n",
    "    assert solution([[0, 6, 0], [5, 8, 7], [0, 9, 0]]) == 24\n",
    "    print(\"Test Case 1 Passed\")\n",
    "except AssertionError:\n",
    "    print(\"Test Case 1 Failed\")\n"
   ]
  },
  {
   "cell_type": "code",
   "execution_count": null,
   "id": "76643b46",
   "metadata": {},
   "outputs": [],
   "source": [
    "### N queens\n",
    "\n",
    "# TODO: Implement the solution for: N queens\n",
    "\n",
    "def solution(*args):\n",
    "    pass  # Replace with actual implementation\n",
    "\n",
    "try:\n",
    "    assert solution(4) == [['.Q..', '...Q', 'Q...', '..Q.'], ['..Q.', 'Q...', '...Q', '.Q..']]\n",
    "    print(\"Test Case 1 Passed\")\n",
    "except AssertionError:\n",
    "    print(\"Test Case 1 Failed\")\n"
   ]
  },
  {
   "cell_type": "code",
   "execution_count": null,
   "id": "b83d848f",
   "metadata": {},
   "outputs": [],
   "source": [
    "### Sudoku solver\n",
    "\n",
    "# TODO: Implement the solution for: Sudoku solver\n",
    "\n",
    "def solution(*args):\n",
    "    pass  # Replace with actual implementation\n",
    "\n",
    "try:\n",
    "    assert solution(['53..7....', '6..195...', '.98....6.', '8...6...3', '4..8.3..1', '7...2...6', '.6....28.', '...419..5', '....8..79']) == ['534678912', '672195348', '198342567', '859761423', '426853791', '713924856', '961537284', '287419635', '345286179']\n",
    "    print(\"Test Case 1 Passed\")\n",
    "except AssertionError:\n",
    "    print(\"Test Case 1 Failed\")\n"
   ]
  },
  {
   "cell_type": "code",
   "execution_count": null,
   "id": "ce804431",
   "metadata": {},
   "outputs": [],
   "source": [
    "### Optimal account balancing\n",
    "\n",
    "# TODO: Implement the solution for: Optimal account balancing\n",
    "\n",
    "def solution(*args):\n",
    "    pass  # Replace with actual implementation\n",
    "\n",
    "try:\n",
    "    assert solution([[0, 1, 10], [2, 0, 5]]) == 2\n",
    "    print(\"Test Case 1 Passed\")\n",
    "except AssertionError:\n",
    "    print(\"Test Case 1 Failed\")\n"
   ]
  }
 ],
 "metadata": {
  "kernelspec": {
   "display_name": "Python (myenv)",
   "language": "python",
   "name": "myenv"
  },
  "language_info": {
   "codemirror_mode": {
    "name": "ipython",
    "version": 3
   },
   "file_extension": ".py",
   "mimetype": "text/x-python",
   "name": "python",
   "nbconvert_exporter": "python",
   "pygments_lexer": "ipython3",
   "version": "3.11.7"
  }
 },
 "nbformat": 4,
 "nbformat_minor": 5
}
